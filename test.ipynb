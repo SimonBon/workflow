{
 "cells": [
  {
   "cell_type": "code",
   "execution_count": null,
   "metadata": {},
   "outputs": [],
   "source": [
    "import sys\n",
    "\n",
    "sys.path.append('/path/to/search')"
   ]
  },
  {
   "cell_type": "code",
   "execution_count": null,
   "metadata": {},
   "outputs": [],
   "source": [
    "from Sample import Sample\n",
    "import matplotlib.pyplot as plt\n",
    "from segmentation.segmentation import Segmentation\n",
    "from skimage.segmentation import find_boundaries"
   ]
  },
  {
   "cell_type": "code",
   "execution_count": null,
   "metadata": {},
   "outputs": [],
   "source": [
    "# Load the sample from the respective directory\n",
    "sample_directory = \"/data_isilon_main/isilon_images/10_MetaSystems/MetaSystemsData/Multimodal_Imaging_Daria/_tmp_simon/20211214_18-2600_BM\"\n",
    "example = Sample(sample_directory)"
   ]
  },
  {
   "cell_type": "code",
   "execution_count": null,
   "metadata": {},
   "outputs": [],
   "source": [
    "# Take a ROI from the ROI-List\n",
    "roi = example.rois[0]"
   ]
  },
  {
   "cell_type": "code",
   "execution_count": null,
   "metadata": {},
   "outputs": [],
   "source": [
    "# Initialize the Segmentation Class with thre correct resolution\n",
    "Mesmer = Segmentation(\"mesmer\", mpp=0.175)"
   ]
  },
  {
   "cell_type": "code",
   "execution_count": null,
   "metadata": {},
   "outputs": [],
   "source": [
    "# Segment the IF DAPI Image\n",
    "masks = Mesmer(roi.if_nuc)"
   ]
  },
  {
   "cell_type": "code",
   "execution_count": 103,
   "metadata": {},
   "outputs": [],
   "source": [
    "# lets look at the masks\n",
    "rgb_data = cv2.cvtColor(img, cv2.COLOR_GRAY2RGB)\n",
    "boundaries = np.zeros_like(img)\n",
    "overlay_data = np.copy(rgb_data)\n",
    "\n",
    "boundary = find_boundaries(masks, connectivity=0, mode='outer')\n",
    "boundaries[boundary > 0] = 1\n",
    "\n",
    "overlay_data[boundaries > 0] = (255,0,0)\n",
    "\n",
    "plt.rcParams[\"figure.figsize\"] = (20, 20)\n",
    "plt.imshow(overlay_data)\n"
   ]
  }
 ],
 "metadata": {
  "interpreter": {
   "hash": "f0fd0c89bd8fde828876ecbe03217e3a3b5c7b3c1983496cb6dba44b884b6040"
  },
  "kernelspec": {
   "display_name": "Python 3.8.5 ('base')",
   "language": "python",
   "name": "python3"
  },
  "language_info": {
   "codemirror_mode": {
    "name": "ipython",
    "version": 3
   },
   "file_extension": ".py",
   "mimetype": "text/x-python",
   "name": "python",
   "nbconvert_exporter": "python",
   "pygments_lexer": "ipython3",
   "version": "3.9.7"
  },
  "orig_nbformat": 4
 },
 "nbformat": 4,
 "nbformat_minor": 2
}
