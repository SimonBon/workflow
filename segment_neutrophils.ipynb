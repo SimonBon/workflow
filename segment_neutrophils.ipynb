{
 "cells": [
  {
   "cell_type": "code",
   "execution_count": 2,
   "metadata": {},
   "outputs": [],
   "source": [
    "import matplotlib.pyplot as plt\n",
    "import os\n",
    "import glob\n",
    "import pandas as pd\n",
    "import cv2\n",
    "from preprocessing.preprocess import preprocess\n",
    "from segmentation.segmentation import Segmentation\n",
    "from utils import _rmlead"
   ]
  },
  {
   "cell_type": "code",
   "execution_count": 4,
   "metadata": {},
   "outputs": [],
   "source": [
    "path = '/data_isilon_main/isilon_images/10_MetaSystems/MetaSystemsData/Multimodal_Imaging_Daria/_Data_Analysis/_tmp_daria/Segmentation_Neutrophils/'\n",
    "in_folder = 'images used by SK 20211228_Sample_cohort_with_infiltration'\n",
    "out_folder = 'masks'"
   ]
  },
  {
   "cell_type": "code",
   "execution_count": 5,
   "metadata": {},
   "outputs": [],
   "source": [
    "df = pd.DataFrame(columns = ['Sample', 'FoV', 'img'])\n",
    "\n",
    "for i,f in enumerate(os.listdir(os.path.join(path, in_folder))):\n",
    "    #df.loc[i] = [f.split(' ')[0], _rmlead(f.split('-')[2]), cv2.imread(os.path.join(path, in_folder, f), cv2.IMREAD_GRAYSCALE)]\n",
    "    df.loc[i] = [f.split(' ')[0], _rmlead(f.split('-')[2]), cv2.imread(os.path.join(path, in_folder, f))]\n"
   ]
  },
  {
   "cell_type": "code",
   "execution_count": 6,
   "metadata": {},
   "outputs": [
    {
     "name": "stdout",
     "output_type": "stream",
     "text": [
      "Using Cellpose for segmentation!\n",
      "Predicting using Cellpose\n"
     ]
    }
   ],
   "source": [
    "segment = Segmentation(option='cellpose', mpp=0.1725)\n",
    "\n",
    "masks, _, _, _ = segment(df['img'][0:2])\n",
    "\n",
    "x=0"
   ]
  },
  {
   "cell_type": "code",
   "execution_count": 6,
   "metadata": {},
   "outputs": [],
   "source": [
    "import tifffile\n",
    "import cv2\n",
    "import numpy as np\n",
    "import matplotlib.pyplot as plt\n",
    "import os\n",
    "import glob\n",
    "from deepcell.utils.plot_utils import make_outline_overlay, create_rgb_image\n",
    "from skimage.segmentation import find_boundaries\n",
    "\n",
    "def make_outline_overlay(rgb_data, predictions):\n",
    "\n",
    "    boundaries = np.zeros_like(rgb_data)\n",
    "    overlay_data = np.copy(rgb_data)\n",
    "\n",
    "    for img in range(predictions.shape[0]):\n",
    "        boundary = find_boundaries(predictions[img, ..., 0], connectivity=1, mode='thick')\n",
    "        boundaries[img, boundary > 0, :] = 1\n",
    "\n",
    "    overlay_data[boundaries > 0] = 1\n",
    "\n",
    "    return overlay_data\n",
    "\n",
    "def create_outline(im, mask):\n",
    "    \n",
    "    rgb = create_rgb_image(im, [\"blue\"])\n",
    "    outline = make_outline_overlay(rgb, mask)\n",
    "    \n",
    "    return outline.squeeze()\n",
    "\n",
    "\n",
    "path_2_masks = '/data_isilon_main/isilon_images/10_MetaSystems/MetaSystemsData/Multimodal_Imaging_Daria/_Data_Analysis/_tmp_daria/Segmentation_Neutrophils/masks/Johannes_seg/segmentation_results'\n",
    "path_2_images = '/data_isilon_main/isilon_images/10_MetaSystems/MetaSystemsData/Multimodal_Imaging_Daria/_Data_Analysis/_tmp_daria/Segmentation_Neutrophils/images used by SK 20211228_Sample_cohort_with_infiltration'\n",
    "out_path = '/data_isilon_main/isilon_images/10_MetaSystems/MetaSystemsData/Multimodal_Imaging_Daria/_Data_Analysis/_tmp_daria/Segmentation_Neutrophils/masks/outline'\n",
    "\n",
    "for f in os.listdir(path_2_masks):\n",
    "    mask = tifffile.imread(os.path.join(path_2_masks, f))\n",
    "    img_name = f.split('_')[0]\n",
    "    img = cv2.imread(glob.glob(path_2_images + '/*{}*'.format(img_name))[0], 0)\n",
    "\n",
    "    mask = np.expand_dims(np.expand_dims(mask, -1), 0)\n",
    "    img = np.expand_dims(np.expand_dims(img, -1), 0)\n",
    "    o = create_outline(img, mask)\n",
    "    plt.rcParams[\"figure.figsize\"] = 20,20\n",
    "    plt.imsave(os.path.join(out_path, f\"{img_name}_outline.tiff\"), o)\n",
    "\n"
   ]
  },
  {
   "cell_type": "markdown",
   "metadata": {},
   "source": []
  }
 ],
 "metadata": {
  "interpreter": {
   "hash": "ed17b7b9d0d327d7bb495f45b6df390da5fbd6f676ee960f37d5c4c6d009e528"
  },
  "kernelspec": {
   "display_name": "Python 3.8.5 ('image_processing': conda)",
   "language": "python",
   "name": "python3"
  },
  "language_info": {
   "codemirror_mode": {
    "name": "ipython",
    "version": 3
   },
   "file_extension": ".py",
   "mimetype": "text/x-python",
   "name": "python",
   "nbconvert_exporter": "python",
   "pygments_lexer": "ipython3",
   "version": "3.8.5"
  },
  "orig_nbformat": 4
 },
 "nbformat": 4,
 "nbformat_minor": 2
}
