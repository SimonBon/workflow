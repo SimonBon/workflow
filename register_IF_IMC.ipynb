{
 "cells": [
  {
   "cell_type": "code",
   "execution_count": 1,
   "metadata": {},
   "outputs": [],
   "source": [
    "from Sample import Sample\n",
    "from registration.register import FeatureExtractor\n",
    "from preprocessing.preprocess import preprocess\n",
    "import matplotlib.pyplot as plt\n",
    "import os\n",
    "import glob\n",
    "import pandas as pd\n"
   ]
  },
  {
   "cell_type": "code",
   "execution_count": 2,
   "metadata": {},
   "outputs": [],
   "source": [
    "in_path = \"/data_isilon_main/isilon_images/10_MetaSystems/MetaSystemsData/Multimodal_Imaging_Daria\"\n",
    "out_path=\"/data_isilon_main/isilon_images/10_MetaSystems/MetaSystemsData/Multimodal_Imaging_Daria/_Data_Analysis/_tmp_daria/REG_IMConIF\"\n",
    "samples=['15-3531', '04-0164', '14-0025', '14-2675', '18-1462', '16-1370']"
   ]
  },
  {
   "cell_type": "code",
   "execution_count": 3,
   "metadata": {},
   "outputs": [
    {
     "name": "stdout",
     "output_type": "stream",
     "text": [
      "Sample: 15-0813\n"
     ]
    },
    {
     "ename": "Exception",
     "evalue": "No ROIs found in '/data_isilon_main/isilon_images/10_MetaSystems/MetaSystemsData/Multimodal_Imaging_Daria/20220203_15-0813_BM'",
     "output_type": "error",
     "traceback": [
      "\u001b[0;31m---------------------------------------------------------------------------\u001b[0m",
      "\u001b[0;31mIndexError\u001b[0m                                Traceback (most recent call last)",
      "File \u001b[0;32m~/src/workflow/Sample.py:49\u001b[0m, in \u001b[0;36mSample.__get_if_rois\u001b[0;34m(self)\u001b[0m\n\u001b[1;32m     <a href='file:///home/daria_l/src/workflow/Sample.py?line=47'>48</a>\u001b[0m \u001b[39mtry\u001b[39;00m:\n\u001b[0;32m---> <a href='file:///home/daria_l/src/workflow/Sample.py?line=48'>49</a>\u001b[0m     roi_tmp \u001b[39m=\u001b[39m glob\u001b[39m.\u001b[39;49mglob(\u001b[39mself\u001b[39;49m\u001b[39m.\u001b[39;49msample_path \u001b[39m+\u001b[39;49m \u001b[39m'\u001b[39;49m\u001b[39m/*[sS][pP][oO][tT][sS]*\u001b[39;49m\u001b[39m'\u001b[39;49m)[\u001b[39m0\u001b[39;49m]\n\u001b[1;32m     <a href='file:///home/daria_l/src/workflow/Sample.py?line=49'>50</a>\u001b[0m \u001b[39mexcept\u001b[39;00m:\n",
      "\u001b[0;31mIndexError\u001b[0m: list index out of range",
      "\nDuring handling of the above exception, another exception occurred:\n",
      "\u001b[0;31mException\u001b[0m                                 Traceback (most recent call last)",
      "\u001b[1;32m/home/daria_l/src/workflow/register_IF_IMC.ipynb Cell 3'\u001b[0m in \u001b[0;36m<module>\u001b[0;34m\u001b[0m\n\u001b[1;32m      <a href='vscode-notebook-cell://ssh-remote%2Bccri/home/daria_l/src/workflow/register_IF_IMC.ipynb#ch0000002vscode-remote?line=0'>1</a>\u001b[0m \u001b[39mfor\u001b[39;00m s \u001b[39min\u001b[39;00m samples:  \n\u001b[1;32m      <a href='vscode-notebook-cell://ssh-remote%2Bccri/home/daria_l/src/workflow/register_IF_IMC.ipynb#ch0000002vscode-remote?line=2'>3</a>\u001b[0m     \u001b[39mprint\u001b[39m(\u001b[39m'\u001b[39m\u001b[39mSample: \u001b[39m\u001b[39m'\u001b[39m \u001b[39m+\u001b[39m s)\n\u001b[0;32m----> <a href='vscode-notebook-cell://ssh-remote%2Bccri/home/daria_l/src/workflow/register_IF_IMC.ipynb#ch0000002vscode-remote?line=4'>5</a>\u001b[0m     S \u001b[39m=\u001b[39m Sample(glob\u001b[39m.\u001b[39;49mglob(in_path \u001b[39m+\u001b[39;49m \u001b[39m'\u001b[39;49m\u001b[39m/*\u001b[39;49m\u001b[39m{}\u001b[39;49;00m\u001b[39m*\u001b[39;49m\u001b[39m'\u001b[39;49m\u001b[39m.\u001b[39;49mformat(s))[\u001b[39m0\u001b[39;49m])\n\u001b[1;32m      <a href='vscode-notebook-cell://ssh-remote%2Bccri/home/daria_l/src/workflow/register_IF_IMC.ipynb#ch0000002vscode-remote?line=6'>7</a>\u001b[0m     out \u001b[39m=\u001b[39m os\u001b[39m.\u001b[39mpath\u001b[39m.\u001b[39mjoin(out_path, s)\n\u001b[1;32m      <a href='vscode-notebook-cell://ssh-remote%2Bccri/home/daria_l/src/workflow/register_IF_IMC.ipynb#ch0000002vscode-remote?line=7'>8</a>\u001b[0m     \u001b[39mif\u001b[39;00m \u001b[39mnot\u001b[39;00m os\u001b[39m.\u001b[39mpath\u001b[39m.\u001b[39mexists(out):\n",
      "File \u001b[0;32m~/src/workflow/Sample.py:37\u001b[0m, in \u001b[0;36mSample.__init__\u001b[0;34m(self, sample_path)\u001b[0m\n\u001b[1;32m     <a href='file:///home/daria_l/src/workflow/Sample.py?line=33'>34</a>\u001b[0m \u001b[39mexcept\u001b[39;00m:\n\u001b[1;32m     <a href='file:///home/daria_l/src/workflow/Sample.py?line=34'>35</a>\u001b[0m     \u001b[39mraise\u001b[39;00m \u001b[39mException\u001b[39;00m(\u001b[39mf\u001b[39m\u001b[39m\"\u001b[39m\u001b[39mNo MCD-File found in \u001b[39m\u001b[39m'\u001b[39m\u001b[39m{\u001b[39;00msample_path\u001b[39m}\u001b[39;00m\u001b[39m'\u001b[39m\u001b[39m\"\u001b[39m)\n\u001b[0;32m---> <a href='file:///home/daria_l/src/workflow/Sample.py?line=36'>37</a>\u001b[0m rois_if \u001b[39m=\u001b[39m \u001b[39mself\u001b[39;49m\u001b[39m.\u001b[39;49m__get_if_rois()\n\u001b[1;32m     <a href='file:///home/daria_l/src/workflow/Sample.py?line=37'>38</a>\u001b[0m rois_imc \u001b[39m=\u001b[39m \u001b[39mself\u001b[39m\u001b[39m.\u001b[39m__get_imc_rois()\n\u001b[1;32m     <a href='file:///home/daria_l/src/workflow/Sample.py?line=38'>39</a>\u001b[0m rois \u001b[39m=\u001b[39m pd\u001b[39m.\u001b[39mmerge(rois_if, rois_imc, on\u001b[39m=\u001b[39m\u001b[39m\"\u001b[39m\u001b[39mroi_num\u001b[39m\u001b[39m\"\u001b[39m)\n",
      "File \u001b[0;32m~/src/workflow/Sample.py:51\u001b[0m, in \u001b[0;36mSample.__get_if_rois\u001b[0;34m(self)\u001b[0m\n\u001b[1;32m     <a href='file:///home/daria_l/src/workflow/Sample.py?line=48'>49</a>\u001b[0m     roi_tmp \u001b[39m=\u001b[39m glob\u001b[39m.\u001b[39mglob(\u001b[39mself\u001b[39m\u001b[39m.\u001b[39msample_path \u001b[39m+\u001b[39m \u001b[39m'\u001b[39m\u001b[39m/*[sS][pP][oO][tT][sS]*\u001b[39m\u001b[39m'\u001b[39m)[\u001b[39m0\u001b[39m]\n\u001b[1;32m     <a href='file:///home/daria_l/src/workflow/Sample.py?line=49'>50</a>\u001b[0m \u001b[39mexcept\u001b[39;00m:\n\u001b[0;32m---> <a href='file:///home/daria_l/src/workflow/Sample.py?line=50'>51</a>\u001b[0m     \u001b[39mraise\u001b[39;00m \u001b[39mException\u001b[39;00m(\u001b[39mf\u001b[39m\u001b[39m\"\u001b[39m\u001b[39mNo ROIs found in \u001b[39m\u001b[39m'\u001b[39m\u001b[39m{\u001b[39;00m\u001b[39mself\u001b[39m\u001b[39m.\u001b[39msample_path\u001b[39m}\u001b[39;00m\u001b[39m'\u001b[39m\u001b[39m\"\u001b[39m)\n\u001b[1;32m     <a href='file:///home/daria_l/src/workflow/Sample.py?line=52'>53</a>\u001b[0m files \u001b[39m=\u001b[39m [os\u001b[39m.\u001b[39mpath\u001b[39m.\u001b[39mjoin(roi_tmp,x) \u001b[39mfor\u001b[39;00m x \u001b[39min\u001b[39;00m os\u001b[39m.\u001b[39mlistdir(roi_tmp)]\n\u001b[1;32m     <a href='file:///home/daria_l/src/workflow/Sample.py?line=53'>54</a>\u001b[0m rois \u001b[39m=\u001b[39m [[f,get_rois(f), f\u001b[39m.\u001b[39msplit(\u001b[39m\"\u001b[39m\u001b[39m.tif\u001b[39m\u001b[39m\"\u001b[39m)[\u001b[39m0\u001b[39m][\u001b[39m-\u001b[39m\u001b[39m1\u001b[39m]] \u001b[39mfor\u001b[39;00m f \u001b[39min\u001b[39;00m files]\n",
      "\u001b[0;31mException\u001b[0m: No ROIs found in '/data_isilon_main/isilon_images/10_MetaSystems/MetaSystemsData/Multimodal_Imaging_Daria/20220203_15-0813_BM'"
     ]
    }
   ],
   "source": [
    "for s in samples:  \n",
    "\n",
    "    print('Sample: ' + s)\n",
    "\n",
    "    S = Sample(glob.glob(in_path + '/*{}*'.format(s))[0])\n",
    "\n",
    "    out = os.path.join(out_path, s)\n",
    "    if not os.path.exists(out):\n",
    "        os.makedirs(out)\n",
    "\n",
    "    df = pd.DataFrame(columns = ['RoI', 'delta_x', 'delta_y'])\n",
    "\n",
    "    for i, roi in enumerate(S.rois):\n",
    "\n",
    "        print('RoI_' + str(roi.roi_num) + ': ')\n",
    "        ppIF = preprocess(roi.if_nuc)\n",
    "        ppIMC = preprocess(roi.imc_nuc)\n",
    "\n",
    "        ex = FeatureExtractor(\"sift\")\n",
    "        ex(ppIMC, ppIF)\n",
    "        ex.match()\n",
    "        ex.draw_matches()\n",
    "        ex.estimate()\n",
    "        ex.warp()\n",
    "        im = ex.compute_overlay()\n",
    "\n",
    "        x, y = ex.calc_misalignment()\n",
    "\n",
    "        print('delta_x= ' + str(x) + ' delta_y= ' + str(y))\n",
    "        df.loc[i] = [roi.roi_num, x, y]\n",
    "\n",
    "        plt.imsave(os.path.join(out, s + '_RoI_' + str(roi.roi_num) + '.png'), im)\n",
    "\n",
    "    df.to_csv(out + '/relocation_result.csv', index=False)"
   ]
  },
  {
   "cell_type": "markdown",
   "metadata": {},
   "source": []
  },
  {
   "cell_type": "code",
   "execution_count": 6,
   "metadata": {},
   "outputs": [],
   "source": [
    "import os\n",
    "import pandas as pd\n",
    "\n",
    "\n",
    "df = pd.DataFrame(columns = ['Sample', 'mean_x', 'mean_y', 'mean_all'])\n",
    "\n",
    "for i,f in enumerate(samples):\n",
    "    tmp = pd.read_csv(os.path.join(out_path, f, 'relocation_result.csv'))\n",
    "    x_mean = tmp['delta_x'].mean()\n",
    "    y_mean = tmp['delta_y'].mean()\n",
    "    overall_mean = (x_mean + y_mean)/2\n",
    "    df.loc[i] = [f, x_mean, y_mean, overall_mean]\n",
    "\n",
    "df.to_csv(out_path + '/relocation_evaluation_summary_5.csv', decimal=',', sep=';', index=False)"
   ]
  }
 ],
 "metadata": {
  "interpreter": {
   "hash": "ed17b7b9d0d327d7bb495f45b6df390da5fbd6f676ee960f37d5c4c6d009e528"
  },
  "kernelspec": {
   "display_name": "Python 3.8.5 ('image_processing': conda)",
   "language": "python",
   "name": "python3"
  },
  "language_info": {
   "codemirror_mode": {
    "name": "ipython",
    "version": 3
   },
   "file_extension": ".py",
   "mimetype": "text/x-python",
   "name": "python",
   "nbconvert_exporter": "python",
   "pygments_lexer": "ipython3",
   "version": "3.8.13"
  },
  "orig_nbformat": 4
 },
 "nbformat": 4,
 "nbformat_minor": 2
}
