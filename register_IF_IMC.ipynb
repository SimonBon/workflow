{
 "cells": [
  {
   "cell_type": "code",
   "execution_count": 3,
   "metadata": {},
   "outputs": [],
   "source": [
    "from Sample import Sample\n",
    "from registration.register import FeatureExtractor\n",
    "from preprocessing.preprocess import preprocess\n",
    "import matplotlib.pyplot as plt\n",
    "import os\n",
    "import glob\n",
    "import pandas as pd\n"
   ]
  },
  {
   "cell_type": "code",
   "execution_count": 2,
   "metadata": {},
   "outputs": [],
   "source": [
    "in_path = \"/data_isilon_main/isilon_images/10_MetaSystems/MetaSystemsData/Multimodal_Imaging_Daria\"\n",
    "out_path=\"/data_isilon_main/isilon_images/10_MetaSystems/MetaSystemsData/Multimodal_Imaging_Daria/_Data_Analysis/_tmp_daria/REG_IMConIF\"\n",
    "#samples = ['02-4074', '03-0313', '06-2373', '17-3502', '07-1861', '06-2847', '11-0262', '11-3238', '06-3069', '14-3450', '03-4870', '09-0920', '11-2786', '07-2453', '14-1331', '04-0968', '06-3380', '15-1320']\n",
    "#samples = ['06-3069', '14-3450', '03-4870', '09-0920', '11-2786', '07-2453', '14-1331', '04-0968', '06-3380', '15-1320']\n",
    "samples = ['18-2796', '14-0309', '13-4339', '19-2548', '18-2306', '15-0229', '07-3302', '04-2136', '13-4453', '03-1029', '04-0813']"
   ]
  },
  {
   "cell_type": "code",
   "execution_count": 5,
   "metadata": {},
   "outputs": [
    {
     "name": "stdout",
     "output_type": "stream",
     "text": [
      "Sample: 18-2796\n"
     ]
    },
    {
     "name": "stderr",
     "output_type": "stream",
     "text": [
      "Possibly corrupted field Artist in Image IFD\n",
      "Possibly corrupted field Artist in Image IFD\n",
      "Possibly corrupted field Artist in Image IFD\n",
      "Possibly corrupted field Artist in Image IFD\n",
      "Possibly corrupted field Artist in Image IFD\n",
      "Possibly corrupted field Artist in Image IFD\n",
      "Possibly corrupted field Artist in Image IFD\n",
      "Possibly corrupted field Artist in Image IFD\n",
      "Possibly corrupted field Artist in Image IFD\n",
      "Possibly corrupted field Artist in Image IFD\n",
      "Possibly corrupted field Artist in Image IFD\n",
      "Possibly corrupted field Artist in Image IFD\n"
     ]
    },
    {
     "name": "stdout",
     "output_type": "stream",
     "text": [
      "Found the following ROIs: [1, 2, 4, 5]\n",
      "RoI_1: \n",
      "0 hot pixels found.\n",
      "0 hot pixels found.\n",
      "Found 80 matches.\n",
      "delta_x= 71.58590063354205 delta_y= 26.964005603707502\n",
      "RoI_2: \n",
      "0 hot pixels found.\n",
      "0 hot pixels found.\n",
      "Found 231 matches.\n",
      "delta_x= 98.96847687571946 delta_y= 40.37314060188951\n",
      "RoI_4: \n",
      "0 hot pixels found.\n",
      "2 hot pixels found.\n",
      "Found 200 matches.\n",
      "delta_x= 63.68796965483797 delta_y= 20.971400703131785\n",
      "RoI_5: \n",
      "0 hot pixels found.\n",
      "1 hot pixels found.\n",
      "Found 48 matches.\n",
      "delta_x= 72.86157038545063 delta_y= 29.380193925868085\n",
      "Sample: 14-0309\n"
     ]
    },
    {
     "name": "stderr",
     "output_type": "stream",
     "text": [
      "Possibly corrupted field Artist in Image IFD\n",
      "Possibly corrupted field Artist in Image IFD\n",
      "Possibly corrupted field Artist in Image IFD\n",
      "Possibly corrupted field Artist in Image IFD\n",
      "Possibly corrupted field Artist in Image IFD\n",
      "Possibly corrupted field Artist in Image IFD\n",
      "Possibly corrupted field Artist in Image IFD\n",
      "Possibly corrupted field Artist in Image IFD\n",
      "Possibly corrupted field Artist in Image IFD\n",
      "Possibly corrupted field Artist in Image IFD\n",
      "Possibly corrupted field Artist in Image IFD\n",
      "Possibly corrupted field Artist in Image IFD\n"
     ]
    },
    {
     "name": "stdout",
     "output_type": "stream",
     "text": [
      "Found the following ROIs: [6, 7, 8, 5]\n",
      "RoI_6: \n",
      "0 hot pixels found.\n",
      "0 hot pixels found.\n",
      "Found 2896 matches.\n",
      "delta_x= 55.72771962333045 delta_y= 17.133396762833012\n",
      "RoI_7: \n",
      "0 hot pixels found.\n",
      "0 hot pixels found.\n",
      "Found 3811 matches.\n",
      "delta_x= 49.334076097755045 delta_y= 14.000376938965301\n",
      "RoI_8: \n",
      "0 hot pixels found.\n",
      "0 hot pixels found.\n",
      "Found 3029 matches.\n",
      "delta_x= 41.86684807588337 delta_y= 10.48896817720752\n",
      "RoI_5: \n",
      "0 hot pixels found.\n",
      "0 hot pixels found.\n",
      "Found 3258 matches.\n",
      "delta_x= 53.827778719763494 delta_y= 17.992981371782008\n"
     ]
    },
    {
     "name": "stderr",
     "output_type": "stream",
     "text": [
      "Possibly corrupted field Artist in Image IFD\n",
      "Possibly corrupted field Artist in Image IFD\n",
      "Possibly corrupted field Artist in Image IFD\n",
      "Possibly corrupted field Artist in Image IFD\n"
     ]
    },
    {
     "name": "stdout",
     "output_type": "stream",
     "text": [
      "Sample: 13-4339\n"
     ]
    },
    {
     "name": "stderr",
     "output_type": "stream",
     "text": [
      "Possibly corrupted field Artist in Image IFD\n",
      "Possibly corrupted field Artist in Image IFD\n",
      "Possibly corrupted field Artist in Image IFD\n",
      "Possibly corrupted field Artist in Image IFD\n",
      "Possibly corrupted field Artist in Image IFD\n",
      "Possibly corrupted field Artist in Image IFD\n",
      "Possibly corrupted field Artist in Image IFD\n",
      "Possibly corrupted field Artist in Image IFD\n"
     ]
    },
    {
     "name": "stdout",
     "output_type": "stream",
     "text": [
      "Found the following ROIs: [1, 2, 4, 3]\n",
      "RoI_1: \n",
      "0 hot pixels found.\n",
      "0 hot pixels found.\n",
      "Found 1154 matches.\n",
      "delta_x= 9.39787870487275 delta_y= 57.056356293527216\n",
      "RoI_2: \n",
      "0 hot pixels found.\n",
      "0 hot pixels found.\n",
      "Found 1053 matches.\n",
      "delta_x= 11.633312217746894 delta_y= 57.15017922205775\n",
      "RoI_4: \n",
      "0 hot pixels found.\n",
      "0 hot pixels found.\n",
      "Found 1156 matches.\n",
      "delta_x= 9.716992538043968 delta_y= 58.0971722923065\n",
      "RoI_3: \n",
      "0 hot pixels found.\n",
      "0 hot pixels found.\n",
      "Found 1004 matches.\n",
      "delta_x= 3.897029985910023 delta_y= 55.89288804292048\n",
      "Sample: 19-2548\n"
     ]
    },
    {
     "name": "stderr",
     "output_type": "stream",
     "text": [
      "Possibly corrupted field Artist in Image IFD\n",
      "Possibly corrupted field Artist in Image IFD\n",
      "Possibly corrupted field Artist in Image IFD\n",
      "Possibly corrupted field Artist in Image IFD\n",
      "Possibly corrupted field Artist in Image IFD\n",
      "Possibly corrupted field Artist in Image IFD\n",
      "Possibly corrupted field Artist in Image IFD\n",
      "Possibly corrupted field Artist in Image IFD\n",
      "Possibly corrupted field Artist in Image IFD\n",
      "Possibly corrupted field Artist in Image IFD\n",
      "Possibly corrupted field Artist in Image IFD\n",
      "Possibly corrupted field Artist in Image IFD\n"
     ]
    },
    {
     "name": "stdout",
     "output_type": "stream",
     "text": [
      "Found the following ROIs: [1, 2, 4, 3]\n",
      "RoI_1: \n",
      "0 hot pixels found.\n",
      "1 hot pixels found.\n",
      "Found 1044 matches.\n",
      "delta_x= 32.63153180991242 delta_y= 42.32107954861819\n",
      "RoI_2: \n",
      "0 hot pixels found.\n",
      "0 hot pixels found.\n",
      "Found 1169 matches.\n",
      "delta_x= 17.21504732608133 delta_y= 35.05390951692534\n",
      "RoI_4: \n",
      "0 hot pixels found.\n",
      "0 hot pixels found.\n",
      "Found 901 matches.\n",
      "delta_x= 15.387916384764216 delta_y= 14.799808942812641\n",
      "RoI_3: \n",
      "0 hot pixels found.\n",
      "0 hot pixels found.\n",
      "Found 1488 matches.\n",
      "delta_x= 28.81548591704662 delta_y= 48.11411327110422\n",
      "Sample: 18-2306\n"
     ]
    },
    {
     "name": "stderr",
     "output_type": "stream",
     "text": [
      "Possibly corrupted field Artist in Image IFD\n",
      "Possibly corrupted field Artist in Image IFD\n",
      "Possibly corrupted field Artist in Image IFD\n",
      "Possibly corrupted field Artist in Image IFD\n",
      "Possibly corrupted field Artist in Image IFD\n",
      "Possibly corrupted field Artist in Image IFD\n",
      "Possibly corrupted field Artist in Image IFD\n",
      "Possibly corrupted field Artist in Image IFD\n",
      "Possibly corrupted field Artist in Image IFD\n",
      "Possibly corrupted field Artist in Image IFD\n",
      "Possibly corrupted field Artist in Image IFD\n",
      "Possibly corrupted field Artist in Image IFD\n"
     ]
    },
    {
     "name": "stdout",
     "output_type": "stream",
     "text": [
      "Found the following ROIs: [6, 2, 4, 5]\n",
      "RoI_6: \n",
      "0 hot pixels found.\n",
      "0 hot pixels found.\n",
      "Found 1801 matches.\n",
      "delta_x= 141.0295665166122 delta_y= 47.237955465210014\n",
      "RoI_2: \n",
      "0 hot pixels found.\n",
      "1 hot pixels found.\n",
      "Found 33 matches.\n",
      "delta_x= 190.21619346518094 delta_y= 58.62691033980443\n",
      "RoI_4: \n",
      "0 hot pixels found.\n",
      "0 hot pixels found.\n",
      "Found 399 matches.\n",
      "delta_x= 173.088359206225 delta_y= 40.70917131687802\n",
      "RoI_5: \n",
      "0 hot pixels found.\n",
      "0 hot pixels found.\n",
      "Found 53 matches.\n",
      "delta_x= 164.6263481859658 delta_y= 59.46722171980487\n",
      "Sample: 15-0229\n"
     ]
    },
    {
     "name": "stderr",
     "output_type": "stream",
     "text": [
      "Possibly corrupted field Artist in Image IFD\n",
      "Possibly corrupted field Artist in Image IFD\n",
      "Possibly corrupted field Artist in Image IFD\n",
      "Possibly corrupted field Artist in Image IFD\n",
      "Possibly corrupted field Artist in Image IFD\n",
      "Possibly corrupted field Artist in Image IFD\n",
      "Possibly corrupted field Artist in Image IFD\n",
      "Possibly corrupted field Artist in Image IFD\n",
      "Possibly corrupted field Artist in Image IFD\n",
      "Possibly corrupted field Artist in Image IFD\n",
      "Possibly corrupted field Artist in Image IFD\n",
      "Possibly corrupted field Artist in Image IFD\n"
     ]
    },
    {
     "name": "stdout",
     "output_type": "stream",
     "text": [
      "Found the following ROIs: [1, 2, 4, 3]\n",
      "RoI_1: \n",
      "0 hot pixels found.\n",
      "1 hot pixels found.\n",
      "Found 426 matches.\n",
      "delta_x= 16.996370053523766 delta_y= 1.0991246854345917\n",
      "RoI_2: \n",
      "0 hot pixels found.\n",
      "0 hot pixels found.\n",
      "Found 590 matches.\n",
      "delta_x= 5.95318398878467 delta_y= 1.3361288032288157\n",
      "RoI_4: \n",
      "0 hot pixels found.\n",
      "0 hot pixels found.\n",
      "Found 615 matches.\n",
      "delta_x= 4.541354455154557 delta_y= 24.703628855678527\n",
      "RoI_3: \n",
      "0 hot pixels found.\n",
      "0 hot pixels found.\n",
      "Found 568 matches.\n",
      "delta_x= 4.950715130449131 delta_y= 1.5486444871978529\n",
      "Sample: 07-3302\n"
     ]
    },
    {
     "name": "stderr",
     "output_type": "stream",
     "text": [
      "Possibly corrupted field Artist in Image IFD\n",
      "Possibly corrupted field Artist in Image IFD\n",
      "Possibly corrupted field Artist in Image IFD\n",
      "Possibly corrupted field Artist in Image IFD\n",
      "Possibly corrupted field Artist in Image IFD\n",
      "Possibly corrupted field Artist in Image IFD\n",
      "Possibly corrupted field Artist in Image IFD\n",
      "Possibly corrupted field Artist in Image IFD\n",
      "Possibly corrupted field Artist in Image IFD\n",
      "Possibly corrupted field Artist in Image IFD\n",
      "Possibly corrupted field Artist in Image IFD\n",
      "Possibly corrupted field Artist in Image IFD\n"
     ]
    },
    {
     "name": "stdout",
     "output_type": "stream",
     "text": [
      "Found the following ROIs: [1, 2, 4, 3]\n",
      "RoI_1: \n",
      "0 hot pixels found.\n",
      "0 hot pixels found.\n",
      "Found 520 matches.\n",
      "delta_x= 60.626013359597735 delta_y= 12.369214006122705\n",
      "RoI_2: \n",
      "0 hot pixels found.\n",
      "0 hot pixels found.\n",
      "Found 726 matches.\n",
      "delta_x= 47.816394847997195 delta_y= 11.863285610667043\n",
      "RoI_4: \n",
      "0 hot pixels found.\n",
      "1 hot pixels found.\n",
      "Found 298 matches.\n",
      "delta_x= 59.54296284816183 delta_y= 14.920963743835122\n",
      "RoI_3: \n",
      "0 hot pixels found.\n",
      "0 hot pixels found.\n",
      "Found 701 matches.\n",
      "delta_x= 43.509451301754495 delta_y= 14.093814416199304\n",
      "Sample: 04-2136\n"
     ]
    },
    {
     "name": "stderr",
     "output_type": "stream",
     "text": [
      "Possibly corrupted field Artist in Image IFD\n",
      "Possibly corrupted field Artist in Image IFD\n",
      "Possibly corrupted field Artist in Image IFD\n",
      "Possibly corrupted field Artist in Image IFD\n",
      "Possibly corrupted field Artist in Image IFD\n",
      "Possibly corrupted field Artist in Image IFD\n",
      "Possibly corrupted field Artist in Image IFD\n",
      "Possibly corrupted field Artist in Image IFD\n",
      "Possibly corrupted field Artist in Image IFD\n",
      "Possibly corrupted field Artist in Image IFD\n",
      "Possibly corrupted field Artist in Image IFD\n",
      "Possibly corrupted field Artist in Image IFD\n"
     ]
    },
    {
     "name": "stdout",
     "output_type": "stream",
     "text": [
      "Found the following ROIs: [2, 4, 3, 5]\n",
      "RoI_2: \n",
      "0 hot pixels found.\n",
      "0 hot pixels found.\n",
      "Found 3943 matches.\n",
      "delta_x= 23.574945865011742 delta_y= 10.137298032903768\n",
      "RoI_4: \n",
      "0 hot pixels found.\n",
      "0 hot pixels found.\n",
      "Found 4476 matches.\n",
      "delta_x= 26.230132126683387 delta_y= 4.441789642022266\n",
      "RoI_3: \n",
      "0 hot pixels found.\n",
      "0 hot pixels found.\n",
      "Found 3255 matches.\n",
      "delta_x= 29.899805511576158 delta_y= 15.931349547833348\n",
      "RoI_5: \n",
      "0 hot pixels found.\n",
      "0 hot pixels found.\n",
      "Found 4482 matches.\n",
      "delta_x= 18.600315293393137 delta_y= 0.09668291243097792\n",
      "Sample: 13-4453\n"
     ]
    },
    {
     "name": "stderr",
     "output_type": "stream",
     "text": [
      "Possibly corrupted field Artist in Image IFD\n",
      "Possibly corrupted field Artist in Image IFD\n",
      "Possibly corrupted field Artist in Image IFD\n",
      "Possibly corrupted field Artist in Image IFD\n",
      "Possibly corrupted field Artist in Image IFD\n",
      "Possibly corrupted field Artist in Image IFD\n",
      "Possibly corrupted field Artist in Image IFD\n",
      "Possibly corrupted field Artist in Image IFD\n",
      "Possibly corrupted field Artist in Image IFD\n",
      "Possibly corrupted field Artist in Image IFD\n",
      "Possibly corrupted field Artist in Image IFD\n",
      "Possibly corrupted field Artist in Image IFD\n"
     ]
    },
    {
     "name": "stdout",
     "output_type": "stream",
     "text": [
      "Found the following ROIs: [1, 2, 4, 3]\n",
      "RoI_1: \n",
      "0 hot pixels found.\n",
      "0 hot pixels found.\n",
      "Found 1164 matches.\n",
      "delta_x= 173.4870101933759 delta_y= 23.87109233269028\n",
      "RoI_2: \n",
      "0 hot pixels found.\n",
      "0 hot pixels found.\n",
      "Found 900 matches.\n",
      "delta_x= 151.19158940714377 delta_y= 3.0871529585874824\n",
      "RoI_4: \n",
      "0 hot pixels found.\n",
      "0 hot pixels found.\n",
      "Found 1091 matches.\n",
      "delta_x= 106.64476922164576 delta_y= 6.045634766462813\n",
      "RoI_3: \n",
      "0 hot pixels found.\n",
      "0 hot pixels found.\n",
      "Found 846 matches.\n",
      "delta_x= 133.4928673296286 delta_y= 8.79210378846424\n",
      "Sample: 03-1029\n"
     ]
    },
    {
     "name": "stderr",
     "output_type": "stream",
     "text": [
      "Possibly corrupted field Artist in Image IFD\n",
      "Possibly corrupted field Artist in Image IFD\n",
      "Possibly corrupted field Artist in Image IFD\n",
      "Possibly corrupted field Artist in Image IFD\n",
      "Possibly corrupted field Artist in Image IFD\n",
      "Possibly corrupted field Artist in Image IFD\n",
      "Possibly corrupted field Artist in Image IFD\n",
      "Possibly corrupted field Artist in Image IFD\n",
      "Possibly corrupted field Artist in Image IFD\n",
      "Possibly corrupted field Artist in Image IFD\n",
      "Possibly corrupted field Artist in Image IFD\n",
      "Possibly corrupted field Artist in Image IFD\n"
     ]
    },
    {
     "name": "stdout",
     "output_type": "stream",
     "text": [
      "Found the following ROIs: [1, 6, 4, 3]\n",
      "RoI_1: \n",
      "0 hot pixels found.\n",
      "1 hot pixels found.\n",
      "Found 178 matches.\n",
      "delta_x= 59.31743764324757 delta_y= 2.2117923502802634\n",
      "RoI_6: \n",
      "0 hot pixels found.\n",
      "0 hot pixels found.\n",
      "Found 134 matches.\n",
      "delta_x= 31.03879817971054 delta_y= 2.422116227077561\n",
      "RoI_4: \n",
      "0 hot pixels found.\n",
      "0 hot pixels found.\n",
      "Found 96 matches.\n",
      "delta_x= 49.554448117016214 delta_y= 1.5151370638038852\n",
      "RoI_3: \n",
      "0 hot pixels found.\n",
      "1 hot pixels found.\n",
      "Found 90 matches.\n",
      "delta_x= 66.94322707497327 delta_y= 3.936004378554171\n",
      "Sample: 04-0813\n"
     ]
    },
    {
     "name": "stderr",
     "output_type": "stream",
     "text": [
      "Possibly corrupted field Artist in Image IFD\n",
      "Possibly corrupted field Artist in Image IFD\n",
      "Possibly corrupted field Artist in Image IFD\n",
      "Possibly corrupted field Artist in Image IFD\n",
      "Possibly corrupted field Artist in Image IFD\n",
      "Possibly corrupted field Artist in Image IFD\n",
      "Possibly corrupted field Artist in Image IFD\n",
      "Possibly corrupted field Artist in Image IFD\n",
      "Possibly corrupted field Artist in Image IFD\n",
      "Possibly corrupted field Artist in Image IFD\n",
      "File format not recognized.\n"
     ]
    },
    {
     "ename": "KeyError",
     "evalue": "'Image Tag 0xB0B7'",
     "output_type": "error",
     "traceback": [
      "\u001b[0;31m---------------------------------------------------------------------------\u001b[0m",
      "\u001b[0;31mKeyError\u001b[0m                                  Traceback (most recent call last)",
      "\u001b[1;32m/home/daria_l/src/workflow/register_IF_IMC.ipynb Cell 3'\u001b[0m in \u001b[0;36m<module>\u001b[0;34m\u001b[0m\n\u001b[1;32m      <a href='vscode-notebook-cell://ssh-remote%2Bccri/home/daria_l/src/workflow/register_IF_IMC.ipynb#ch0000002vscode-remote?line=0'>1</a>\u001b[0m \u001b[39mfor\u001b[39;00m s \u001b[39min\u001b[39;00m samples:  \n\u001b[1;32m      <a href='vscode-notebook-cell://ssh-remote%2Bccri/home/daria_l/src/workflow/register_IF_IMC.ipynb#ch0000002vscode-remote?line=2'>3</a>\u001b[0m     \u001b[39mprint\u001b[39m(\u001b[39m'\u001b[39m\u001b[39mSample: \u001b[39m\u001b[39m'\u001b[39m \u001b[39m+\u001b[39m s)\n\u001b[0;32m----> <a href='vscode-notebook-cell://ssh-remote%2Bccri/home/daria_l/src/workflow/register_IF_IMC.ipynb#ch0000002vscode-remote?line=4'>5</a>\u001b[0m     S \u001b[39m=\u001b[39m Sample(glob\u001b[39m.\u001b[39;49mglob(in_path \u001b[39m+\u001b[39;49m \u001b[39m'\u001b[39;49m\u001b[39m/*\u001b[39;49m\u001b[39m{}\u001b[39;49;00m\u001b[39m*\u001b[39;49m\u001b[39m'\u001b[39;49m\u001b[39m.\u001b[39;49mformat(s))[\u001b[39m0\u001b[39;49m])\n\u001b[1;32m      <a href='vscode-notebook-cell://ssh-remote%2Bccri/home/daria_l/src/workflow/register_IF_IMC.ipynb#ch0000002vscode-remote?line=6'>7</a>\u001b[0m     out \u001b[39m=\u001b[39m os\u001b[39m.\u001b[39mpath\u001b[39m.\u001b[39mjoin(out_path, s)\n\u001b[1;32m      <a href='vscode-notebook-cell://ssh-remote%2Bccri/home/daria_l/src/workflow/register_IF_IMC.ipynb#ch0000002vscode-remote?line=7'>8</a>\u001b[0m     \u001b[39mif\u001b[39;00m \u001b[39mnot\u001b[39;00m os\u001b[39m.\u001b[39mpath\u001b[39m.\u001b[39mexists(out):\n",
      "File \u001b[0;32m~/src/workflow/Sample.py:37\u001b[0m, in \u001b[0;36mSample.__init__\u001b[0;34m(self, sample_path)\u001b[0m\n\u001b[1;32m     <a href='file:///home/daria_l/src/workflow/Sample.py?line=33'>34</a>\u001b[0m \u001b[39mexcept\u001b[39;00m:\n\u001b[1;32m     <a href='file:///home/daria_l/src/workflow/Sample.py?line=34'>35</a>\u001b[0m     \u001b[39mraise\u001b[39;00m \u001b[39mException\u001b[39;00m(\u001b[39mf\u001b[39m\u001b[39m\"\u001b[39m\u001b[39mNo MCD-File found in \u001b[39m\u001b[39m'\u001b[39m\u001b[39m{\u001b[39;00msample_path\u001b[39m}\u001b[39;00m\u001b[39m'\u001b[39m\u001b[39m\"\u001b[39m)\n\u001b[0;32m---> <a href='file:///home/daria_l/src/workflow/Sample.py?line=36'>37</a>\u001b[0m rois_if \u001b[39m=\u001b[39m \u001b[39mself\u001b[39;49m\u001b[39m.\u001b[39;49m__get_if_rois()\n\u001b[1;32m     <a href='file:///home/daria_l/src/workflow/Sample.py?line=37'>38</a>\u001b[0m rois_imc \u001b[39m=\u001b[39m \u001b[39mself\u001b[39m\u001b[39m.\u001b[39m__get_imc_rois()\n\u001b[1;32m     <a href='file:///home/daria_l/src/workflow/Sample.py?line=38'>39</a>\u001b[0m rois \u001b[39m=\u001b[39m pd\u001b[39m.\u001b[39mmerge(rois_if, rois_imc, on\u001b[39m=\u001b[39m\u001b[39m\"\u001b[39m\u001b[39mroi_num\u001b[39m\u001b[39m\"\u001b[39m)\n",
      "File \u001b[0;32m~/src/workflow/Sample.py:54\u001b[0m, in \u001b[0;36mSample.__get_if_rois\u001b[0;34m(self)\u001b[0m\n\u001b[1;32m     <a href='file:///home/daria_l/src/workflow/Sample.py?line=50'>51</a>\u001b[0m     \u001b[39mraise\u001b[39;00m \u001b[39mException\u001b[39;00m(\u001b[39mf\u001b[39m\u001b[39m\"\u001b[39m\u001b[39mNo ROIs found in \u001b[39m\u001b[39m'\u001b[39m\u001b[39m{\u001b[39;00m\u001b[39mself\u001b[39m\u001b[39m.\u001b[39msample_path\u001b[39m}\u001b[39;00m\u001b[39m'\u001b[39m\u001b[39m\"\u001b[39m)\n\u001b[1;32m     <a href='file:///home/daria_l/src/workflow/Sample.py?line=52'>53</a>\u001b[0m files \u001b[39m=\u001b[39m [os\u001b[39m.\u001b[39mpath\u001b[39m.\u001b[39mjoin(roi_tmp,x) \u001b[39mfor\u001b[39;00m x \u001b[39min\u001b[39;00m os\u001b[39m.\u001b[39mlistdir(roi_tmp)]\n\u001b[0;32m---> <a href='file:///home/daria_l/src/workflow/Sample.py?line=53'>54</a>\u001b[0m rois \u001b[39m=\u001b[39m [[f,get_rois(f), f\u001b[39m.\u001b[39msplit(\u001b[39m\"\u001b[39m\u001b[39m.tif\u001b[39m\u001b[39m\"\u001b[39m)[\u001b[39m0\u001b[39m][\u001b[39m-\u001b[39m\u001b[39m1\u001b[39m]] \u001b[39mfor\u001b[39;00m f \u001b[39min\u001b[39;00m files]\n\u001b[1;32m     <a href='file:///home/daria_l/src/workflow/Sample.py?line=55'>56</a>\u001b[0m df \u001b[39m=\u001b[39m pd\u001b[39m.\u001b[39mDataFrame(rois, columns\u001b[39m=\u001b[39m[\u001b[39m\"\u001b[39m\u001b[39mfile\u001b[39m\u001b[39m\"\u001b[39m, \u001b[39m\"\u001b[39m\u001b[39mroi_num\u001b[39m\u001b[39m\"\u001b[39m, \u001b[39m\"\u001b[39m\u001b[39mchannel\u001b[39m\u001b[39m\"\u001b[39m])\n\u001b[1;32m     <a href='file:///home/daria_l/src/workflow/Sample.py?line=57'>58</a>\u001b[0m roi_files \u001b[39m=\u001b[39m []\n",
      "File \u001b[0;32m~/src/workflow/Sample.py:54\u001b[0m, in \u001b[0;36m<listcomp>\u001b[0;34m(.0)\u001b[0m\n\u001b[1;32m     <a href='file:///home/daria_l/src/workflow/Sample.py?line=50'>51</a>\u001b[0m     \u001b[39mraise\u001b[39;00m \u001b[39mException\u001b[39;00m(\u001b[39mf\u001b[39m\u001b[39m\"\u001b[39m\u001b[39mNo ROIs found in \u001b[39m\u001b[39m'\u001b[39m\u001b[39m{\u001b[39;00m\u001b[39mself\u001b[39m\u001b[39m.\u001b[39msample_path\u001b[39m}\u001b[39;00m\u001b[39m'\u001b[39m\u001b[39m\"\u001b[39m)\n\u001b[1;32m     <a href='file:///home/daria_l/src/workflow/Sample.py?line=52'>53</a>\u001b[0m files \u001b[39m=\u001b[39m [os\u001b[39m.\u001b[39mpath\u001b[39m.\u001b[39mjoin(roi_tmp,x) \u001b[39mfor\u001b[39;00m x \u001b[39min\u001b[39;00m os\u001b[39m.\u001b[39mlistdir(roi_tmp)]\n\u001b[0;32m---> <a href='file:///home/daria_l/src/workflow/Sample.py?line=53'>54</a>\u001b[0m rois \u001b[39m=\u001b[39m [[f,get_rois(f), f\u001b[39m.\u001b[39msplit(\u001b[39m\"\u001b[39m\u001b[39m.tif\u001b[39m\u001b[39m\"\u001b[39m)[\u001b[39m0\u001b[39m][\u001b[39m-\u001b[39m\u001b[39m1\u001b[39m]] \u001b[39mfor\u001b[39;00m f \u001b[39min\u001b[39;00m files]\n\u001b[1;32m     <a href='file:///home/daria_l/src/workflow/Sample.py?line=55'>56</a>\u001b[0m df \u001b[39m=\u001b[39m pd\u001b[39m.\u001b[39mDataFrame(rois, columns\u001b[39m=\u001b[39m[\u001b[39m\"\u001b[39m\u001b[39mfile\u001b[39m\u001b[39m\"\u001b[39m, \u001b[39m\"\u001b[39m\u001b[39mroi_num\u001b[39m\u001b[39m\"\u001b[39m, \u001b[39m\"\u001b[39m\u001b[39mchannel\u001b[39m\u001b[39m\"\u001b[39m])\n\u001b[1;32m     <a href='file:///home/daria_l/src/workflow/Sample.py?line=57'>58</a>\u001b[0m roi_files \u001b[39m=\u001b[39m []\n",
      "File \u001b[0;32m~/src/workflow/Sample.py:18\u001b[0m, in \u001b[0;36mget_rois\u001b[0;34m(f)\u001b[0m\n\u001b[1;32m     <a href='file:///home/daria_l/src/workflow/Sample.py?line=14'>15</a>\u001b[0m \u001b[39mwith\u001b[39;00m \u001b[39mopen\u001b[39m(f, \u001b[39m'\u001b[39m\u001b[39mrb\u001b[39m\u001b[39m'\u001b[39m) \u001b[39mas\u001b[39;00m fin:\n\u001b[1;32m     <a href='file:///home/daria_l/src/workflow/Sample.py?line=15'>16</a>\u001b[0m     tags \u001b[39m=\u001b[39m exifread\u001b[39m.\u001b[39mprocess_file(fin)\n\u001b[0;32m---> <a href='file:///home/daria_l/src/workflow/Sample.py?line=17'>18</a>\u001b[0m roi_num \u001b[39m=\u001b[39m \u001b[39mstr\u001b[39m(tags[\u001b[39m\"\u001b[39;49m\u001b[39mImage Tag 0xB0B7\u001b[39;49m\u001b[39m\"\u001b[39;49m])\u001b[39m.\u001b[39msplit(\u001b[39m\"\u001b[39m\u001b[39m:\u001b[39m\u001b[39m\"\u001b[39m)[\u001b[39m-\u001b[39m\u001b[39m1\u001b[39m]\u001b[39m.\u001b[39msplit(\u001b[39m\"\u001b[39m\u001b[39m_\u001b[39m\u001b[39m\"\u001b[39m)[\u001b[39m-\u001b[39m\u001b[39m1\u001b[39m]\n\u001b[1;32m     <a href='file:///home/daria_l/src/workflow/Sample.py?line=18'>19</a>\u001b[0m \u001b[39mreturn\u001b[39;00m roi_num\n",
      "\u001b[0;31mKeyError\u001b[0m: 'Image Tag 0xB0B7'"
     ]
    }
   ],
   "source": [
    "for s in samples:  \n",
    "\n",
    "    print('Sample: ' + s)\n",
    "\n",
    "    S = Sample(glob.glob(in_path + '/*{}*'.format(s))[0])\n",
    "\n",
    "    out = os.path.join(out_path, s)\n",
    "    if not os.path.exists(out):\n",
    "        os.makedirs(out)\n",
    "\n",
    "    df = pd.DataFrame(columns = ['RoI', 'delta_x', 'delta_y'])\n",
    "\n",
    "    for i, roi in enumerate(S.rois):\n",
    "        print('RoI_' + str(roi.roi_num) + ': ')\n",
    "        ppIF = preprocess(roi.if_nuc)\n",
    "        ppIMC = preprocess(roi.imc_nuc)\n",
    "\n",
    "        ex = FeatureExtractor(\"sift\")\n",
    "        ex(ppIMC, ppIF)\n",
    "        ex.match()\n",
    "        ex.draw_matches()\n",
    "        ex.estimate()\n",
    "        ex.warp()\n",
    "        im = ex.compute_overlay()\n",
    "\n",
    "        x, y = ex.calc_misalignment()\n",
    "\n",
    "        print('delta_x= ' + str(x) + ' delta_y= ' + str(y))\n",
    "        df.loc[i] = [roi.roi_num, x, y]\n",
    "\n",
    "        plt.imsave(os.path.join(out, s + '_RoI_' + str(roi.roi_num) + '.png'), im)\n",
    "\n",
    "    df.to_csv(out + '/relocation_result.csv', index=False)"
   ]
  },
  {
   "cell_type": "code",
   "execution_count": 7,
   "metadata": {},
   "outputs": [
    {
     "ename": "NameError",
     "evalue": "name 'out' is not defined",
     "output_type": "error",
     "traceback": [
      "\u001b[0;31m---------------------------------------------------------------------------\u001b[0m",
      "\u001b[0;31mNameError\u001b[0m                                 Traceback (most recent call last)",
      "\u001b[1;32m/home/daria_l/src/workflow/register_IF_IMC.ipynb Cell 4'\u001b[0m in \u001b[0;36m<module>\u001b[0;34m\u001b[0m\n\u001b[1;32m     <a href='vscode-notebook-cell://ssh-remote%2Bccri/home/daria_l/src/workflow/register_IF_IMC.ipynb#ch0000010vscode-remote?line=10'>11</a>\u001b[0m     overall_mean \u001b[39m=\u001b[39m (x_mean \u001b[39m+\u001b[39m y_mean)\u001b[39m/\u001b[39m\u001b[39m2\u001b[39m\n\u001b[1;32m     <a href='vscode-notebook-cell://ssh-remote%2Bccri/home/daria_l/src/workflow/register_IF_IMC.ipynb#ch0000010vscode-remote?line=11'>12</a>\u001b[0m     df\u001b[39m.\u001b[39mloc[i] \u001b[39m=\u001b[39m [f, x_mean, y_mean, overall_mean]\n\u001b[0;32m---> <a href='vscode-notebook-cell://ssh-remote%2Bccri/home/daria_l/src/workflow/register_IF_IMC.ipynb#ch0000010vscode-remote?line=13'>14</a>\u001b[0m df\u001b[39m.\u001b[39mto_csv(out \u001b[39m+\u001b[39m \u001b[39m'\u001b[39m\u001b[39m/relocation_evaluation_summary.csv\u001b[39m\u001b[39m'\u001b[39m, decimal\u001b[39m=\u001b[39m\u001b[39m'\u001b[39m\u001b[39m,\u001b[39m\u001b[39m'\u001b[39m, sep\u001b[39m=\u001b[39m\u001b[39m'\u001b[39m\u001b[39m;\u001b[39m\u001b[39m'\u001b[39m)\n",
      "\u001b[0;31mNameError\u001b[0m: name 'out' is not defined"
     ]
    }
   ],
   "source": [
    "import os\n",
    "import pandas as pd\n",
    "\n",
    "\n",
    "df = pd.DataFrame(columns = ['Sample', 'mean_x', 'mean_y', 'mean_all'])\n",
    "\n",
    "for i,f in enumerate(os.listdir(out_path)):\n",
    "    tmp = pd.read_csv(os.path.join(out_path, f, 'relocation_result.csv'))\n",
    "    x_mean = tmp['delta_x'].mean()\n",
    "    y_mean = tmp['delta_y'].mean()\n",
    "    overall_mean = (x_mean + y_mean)/2\n",
    "    df.loc[i] = [f, x_mean, y_mean, overall_mean]\n",
    "\n",
    "df.to_csv(out_path + '/relocation_evaluation_summary.csv', decimal=',', sep=';', index=False)"
   ]
  }
 ],
 "metadata": {
  "interpreter": {
   "hash": "ed17b7b9d0d327d7bb495f45b6df390da5fbd6f676ee960f37d5c4c6d009e528"
  },
  "kernelspec": {
   "display_name": "Python 3.8.5 ('image_processing': conda)",
   "language": "python",
   "name": "python3"
  },
  "language_info": {
   "codemirror_mode": {
    "name": "ipython",
    "version": 3
   },
   "file_extension": ".py",
   "mimetype": "text/x-python",
   "name": "python",
   "nbconvert_exporter": "python",
   "pygments_lexer": "ipython3",
   "version": "3.8.5"
  },
  "orig_nbformat": 4
 },
 "nbformat": 4,
 "nbformat_minor": 2
}
